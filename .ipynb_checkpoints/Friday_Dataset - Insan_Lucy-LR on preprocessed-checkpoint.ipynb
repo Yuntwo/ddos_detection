{
 "cells": [
  {
   "cell_type": "markdown",
   "id": "46a6cb7c",
   "metadata": {},
   "source": [
    "# Testing the model on another dataset (CIC 2019)"
   ]
  },
  {
   "cell_type": "code",
   "execution_count": 12,
   "id": "0c4837ed-f1f7-4258-9f8e-f5f3a976a310",
   "metadata": {},
   "outputs": [],
   "source": [
    "import numpy as np\n",
    "import pandas as pd\n",
    "from sklearn.compose import ColumnTransformer\n",
    "from sklearn.preprocessing import OneHotEncoder, StandardScaler\n",
    "from sklearn.pipeline import Pipeline, FeatureUnion\n",
    "from sklearn.ensemble import RandomForestClassifier\n",
    "from sklearn.tree import DecisionTreeClassifier\n",
    "from sklearn.svm import SVC\n",
    "from sklearn.linear_model import LogisticRegression\n",
    "from sklearn.feature_selection import SelectKBest, mutual_info_classif, chi2\n",
    "from sklearn.decomposition import PCA\n",
    "from sklearn.model_selection import GridSearchCV, RandomizedSearchCV\n",
    "from xgboost import XGBClassifier\n",
    "from sklearn.metrics import classification_report, confusion_matrix\n",
    "from sklearn.model_selection import train_test_split\n",
    "import pickle\n",
    "import matplotlib.pyplot as plt\n",
    "import seaborn as sns"
   ]
  },
  {
   "cell_type": "code",
   "execution_count": 5,
   "id": "1f335204",
   "metadata": {},
   "outputs": [
    {
     "data": {
      "text/html": [
       "<div>\n",
       "<style scoped>\n",
       "    .dataframe tbody tr th:only-of-type {\n",
       "        vertical-align: middle;\n",
       "    }\n",
       "\n",
       "    .dataframe tbody tr th {\n",
       "        vertical-align: top;\n",
       "    }\n",
       "\n",
       "    .dataframe thead th {\n",
       "        text-align: right;\n",
       "    }\n",
       "</style>\n",
       "<table border=\"1\" class=\"dataframe\">\n",
       "  <thead>\n",
       "    <tr style=\"text-align: right;\">\n",
       "      <th></th>\n",
       "      <th>Protocol</th>\n",
       "      <th>Flow Duration</th>\n",
       "      <th>Total Fwd Packets</th>\n",
       "      <th>Total Backward Packets</th>\n",
       "      <th>Total Length of Fwd Packets</th>\n",
       "      <th>Total Length of Bwd Packets</th>\n",
       "      <th>Fwd Packet Length Max</th>\n",
       "      <th>Fwd Packet Length Min</th>\n",
       "      <th>Fwd Packet Length Mean</th>\n",
       "      <th>Fwd Packet Length Std</th>\n",
       "      <th>...</th>\n",
       "      <th>Active Mean</th>\n",
       "      <th>Active Std</th>\n",
       "      <th>Active Max</th>\n",
       "      <th>Active Min</th>\n",
       "      <th>Idle Mean</th>\n",
       "      <th>Idle Std</th>\n",
       "      <th>Idle Max</th>\n",
       "      <th>Idle Min</th>\n",
       "      <th>Label</th>\n",
       "      <th>Class</th>\n",
       "    </tr>\n",
       "  </thead>\n",
       "  <tbody>\n",
       "    <tr>\n",
       "      <th>0</th>\n",
       "      <td>17</td>\n",
       "      <td>216631</td>\n",
       "      <td>6</td>\n",
       "      <td>0</td>\n",
       "      <td>2088.0</td>\n",
       "      <td>0.0</td>\n",
       "      <td>393.0</td>\n",
       "      <td>321.0</td>\n",
       "      <td>348.0</td>\n",
       "      <td>35.088460</td>\n",
       "      <td>...</td>\n",
       "      <td>0.0</td>\n",
       "      <td>0.0</td>\n",
       "      <td>0.0</td>\n",
       "      <td>0.0</td>\n",
       "      <td>0.0</td>\n",
       "      <td>0.0</td>\n",
       "      <td>0.0</td>\n",
       "      <td>0.0</td>\n",
       "      <td>UDP</td>\n",
       "      <td>Attack</td>\n",
       "    </tr>\n",
       "    <tr>\n",
       "      <th>1</th>\n",
       "      <td>17</td>\n",
       "      <td>2</td>\n",
       "      <td>2</td>\n",
       "      <td>0</td>\n",
       "      <td>802.0</td>\n",
       "      <td>0.0</td>\n",
       "      <td>401.0</td>\n",
       "      <td>401.0</td>\n",
       "      <td>401.0</td>\n",
       "      <td>0.000000</td>\n",
       "      <td>...</td>\n",
       "      <td>0.0</td>\n",
       "      <td>0.0</td>\n",
       "      <td>0.0</td>\n",
       "      <td>0.0</td>\n",
       "      <td>0.0</td>\n",
       "      <td>0.0</td>\n",
       "      <td>0.0</td>\n",
       "      <td>0.0</td>\n",
       "      <td>UDP</td>\n",
       "      <td>Attack</td>\n",
       "    </tr>\n",
       "    <tr>\n",
       "      <th>2</th>\n",
       "      <td>17</td>\n",
       "      <td>48</td>\n",
       "      <td>2</td>\n",
       "      <td>0</td>\n",
       "      <td>766.0</td>\n",
       "      <td>0.0</td>\n",
       "      <td>383.0</td>\n",
       "      <td>383.0</td>\n",
       "      <td>383.0</td>\n",
       "      <td>0.000000</td>\n",
       "      <td>...</td>\n",
       "      <td>0.0</td>\n",
       "      <td>0.0</td>\n",
       "      <td>0.0</td>\n",
       "      <td>0.0</td>\n",
       "      <td>0.0</td>\n",
       "      <td>0.0</td>\n",
       "      <td>0.0</td>\n",
       "      <td>0.0</td>\n",
       "      <td>UDP</td>\n",
       "      <td>Attack</td>\n",
       "    </tr>\n",
       "    <tr>\n",
       "      <th>3</th>\n",
       "      <td>17</td>\n",
       "      <td>107319</td>\n",
       "      <td>4</td>\n",
       "      <td>0</td>\n",
       "      <td>1398.0</td>\n",
       "      <td>0.0</td>\n",
       "      <td>369.0</td>\n",
       "      <td>330.0</td>\n",
       "      <td>349.5</td>\n",
       "      <td>22.516660</td>\n",
       "      <td>...</td>\n",
       "      <td>0.0</td>\n",
       "      <td>0.0</td>\n",
       "      <td>0.0</td>\n",
       "      <td>0.0</td>\n",
       "      <td>0.0</td>\n",
       "      <td>0.0</td>\n",
       "      <td>0.0</td>\n",
       "      <td>0.0</td>\n",
       "      <td>UDP</td>\n",
       "      <td>Attack</td>\n",
       "    </tr>\n",
       "    <tr>\n",
       "      <th>4</th>\n",
       "      <td>17</td>\n",
       "      <td>107271</td>\n",
       "      <td>4</td>\n",
       "      <td>0</td>\n",
       "      <td>1438.0</td>\n",
       "      <td>0.0</td>\n",
       "      <td>389.0</td>\n",
       "      <td>330.0</td>\n",
       "      <td>359.5</td>\n",
       "      <td>34.063667</td>\n",
       "      <td>...</td>\n",
       "      <td>0.0</td>\n",
       "      <td>0.0</td>\n",
       "      <td>0.0</td>\n",
       "      <td>0.0</td>\n",
       "      <td>0.0</td>\n",
       "      <td>0.0</td>\n",
       "      <td>0.0</td>\n",
       "      <td>0.0</td>\n",
       "      <td>UDP</td>\n",
       "      <td>Attack</td>\n",
       "    </tr>\n",
       "  </tbody>\n",
       "</table>\n",
       "<p>5 rows × 79 columns</p>\n",
       "</div>"
      ],
      "text/plain": [
       "   Protocol  Flow Duration  Total Fwd Packets  Total Backward Packets  \\\n",
       "0        17         216631                  6                       0   \n",
       "1        17              2                  2                       0   \n",
       "2        17             48                  2                       0   \n",
       "3        17         107319                  4                       0   \n",
       "4        17         107271                  4                       0   \n",
       "\n",
       "   Total Length of Fwd Packets  Total Length of Bwd Packets  \\\n",
       "0                       2088.0                          0.0   \n",
       "1                        802.0                          0.0   \n",
       "2                        766.0                          0.0   \n",
       "3                       1398.0                          0.0   \n",
       "4                       1438.0                          0.0   \n",
       "\n",
       "   Fwd Packet Length Max  Fwd Packet Length Min  Fwd Packet Length Mean  \\\n",
       "0                  393.0                  321.0                   348.0   \n",
       "1                  401.0                  401.0                   401.0   \n",
       "2                  383.0                  383.0                   383.0   \n",
       "3                  369.0                  330.0                   349.5   \n",
       "4                  389.0                  330.0                   359.5   \n",
       "\n",
       "   Fwd Packet Length Std  ...  Active Mean  Active Std  Active Max  \\\n",
       "0              35.088460  ...          0.0         0.0         0.0   \n",
       "1               0.000000  ...          0.0         0.0         0.0   \n",
       "2               0.000000  ...          0.0         0.0         0.0   \n",
       "3              22.516660  ...          0.0         0.0         0.0   \n",
       "4              34.063667  ...          0.0         0.0         0.0   \n",
       "\n",
       "   Active Min  Idle Mean  Idle Std  Idle Max  Idle Min  Label   Class  \n",
       "0         0.0        0.0       0.0       0.0       0.0    UDP  Attack  \n",
       "1         0.0        0.0       0.0       0.0       0.0    UDP  Attack  \n",
       "2         0.0        0.0       0.0       0.0       0.0    UDP  Attack  \n",
       "3         0.0        0.0       0.0       0.0       0.0    UDP  Attack  \n",
       "4         0.0        0.0       0.0       0.0       0.0    UDP  Attack  \n",
       "\n",
       "[5 rows x 79 columns]"
      ]
     },
     "execution_count": 5,
     "metadata": {},
     "output_type": "execute_result"
    }
   ],
   "source": [
    "# Reading the file\n",
    "cic_df=pd.read_csv('cicddos2019_dataset.csv', index_col=0)\n",
    "\n",
    "# Renaming columns to match the model\n",
    "rename_column =  {'Packet Length Max': 'Max Packet Length',\n",
    "                  'Init Fwd Win Bytes':'Init_Win_bytes_forward',\n",
    "                  'Bwd Packets Length Total':'Total Length of Bwd Packets',\n",
    "                  'Packet Length Min':'Min Packet Length',\n",
    "                  'Fwd Seg Size Min':'min_seg_size_forward',\n",
    "                  'Fwd Act Data Packets':'act_data_pkt_fwd',\n",
    "                  'Avg Packet Size':'Average Packet Size',\n",
    "                  'Init Bwd Win Bytes':'Init_Win_bytes_backward',\n",
    "                  'Fwd Packets Length Total':'Total Length of Fwd Packets'\n",
    "                }\n",
    "cic_df = cic_df.rename(columns=rename_column)\n",
    "cic_df.head()"
   ]
  },
  {
   "cell_type": "code",
   "execution_count": 6,
   "id": "a653e9e8",
   "metadata": {},
   "outputs": [],
   "source": [
    "# Drop any rows with nulls\n",
    "cic_df = cic_df.drop(index=cic_df[cic_df.isnull().any(axis=1)].index)\n",
    "\n",
    "# Drop any rows with infinity\n",
    "cic_df = cic_df.drop(index=cic_df[cic_df.isin([np.inf, -np.inf]).any(axis=1)].index)\n",
    "\n",
    "# Change flags to boolean type\n",
    "to_bool = []\n",
    "for x in cic_df.columns:\n",
    "    if \"Flag\" in x:\n",
    "        to_bool.append(x)\n",
    "cic_df[to_bool] = cic_df[to_bool].astype('bool')\n",
    "\n",
    "# Changing Label to 0 and 1\n",
    "cic_df['Label'] = cic_df['Label'].apply(lambda x: 0 if x == \"Benign\" else 1)\n",
    "cic_df['Label'] = cic_df['Label'].astype('bool')\n",
    "\n",
    "# Separating features from target\n",
    "X_cic = cic_df.drop(columns=['Label','Class'])\n",
    "y_cic = cic_df['Label']"
   ]
  },
  {
   "cell_type": "markdown",
   "id": "5e823d69",
   "metadata": {},
   "source": [
    "## Logistic Regression Model"
   ]
  },
  {
   "cell_type": "markdown",
   "id": "b4e365f4-0df4-486b-9909-124568d3b31b",
   "metadata": {},
   "source": [
    "### random search"
   ]
  },
  {
   "cell_type": "code",
   "execution_count": 51,
   "id": "61e7185f",
   "metadata": {},
   "outputs": [
    {
     "name": "stdout",
     "output_type": "stream",
     "text": [
      "              precision    recall  f1-score   support\n",
      "\n",
      "       False       0.41      0.97      0.58     97831\n",
      "        True       0.98      0.60      0.74    333540\n",
      "\n",
      "    accuracy                           0.68    431371\n",
      "   macro avg       0.70      0.78      0.66    431371\n",
      "weighted avg       0.85      0.68      0.71    431371\n",
      "\n"
     ]
    },
    {
     "data": {
      "image/png": "[encoded data removed]",
      "text/plain": [
       "<Figure size 400x300 with 2 Axes>"
      ]
     },
     "metadata": {},
     "output_type": "display_data"
    }
   ],
   "source": [
    "with open('model_1_logreg_randomsearch.pkl', 'rb') as file:\n",
    "    loaded_model_pickle = pickle.load(file)\n",
    "\n",
    "prediction_cic = loaded_model_pickle.best_estimator_.predict(X_cic)\n",
    "print(classification_report(y_cic, prediction_cic))\n",
    "conf_mat = confusion_matrix(y_cic, prediction_cic)\n",
    "plt.figure(figsize=(4,3))\n",
    "sns.heatmap(conf_mat, cmap='Blues', annot=True, fmt='2')\n",
    "plt.title('Confusion Matrix')\n",
    "plt.show()"
   ]
  },
  {
   "cell_type": "code",
   "execution_count": 34,
   "id": "9bd5fcf9",
   "metadata": {},
   "outputs": [
    {
     "data": {
      "text/plain": [
       "{'prediction__C': 7.915074397656213,\n",
       " 'prediction__l1_ratio': 0.6371651421518383,\n",
       " 'preprocessing__cat_processing__select_k__k': 1}"
      ]
     },
     "execution_count": 34,
     "metadata": {},
     "output_type": "execute_result"
    }
   ],
   "source": [
    "loaded_model_pickle.best_params_"
   ]
  },
  {
   "cell_type": "markdown",
   "id": "2bc8e82e-0a6a-4c92-9384-68427182e1b5",
   "metadata": {},
   "source": [
    "### grid search"
   ]
  },
  {
   "cell_type": "code",
   "execution_count": 13,
   "id": "d6c96719-7d04-43f0-918a-ea8ca3b69e46",
   "metadata": {},
   "outputs": [
    {
     "name": "stdout",
     "output_type": "stream",
     "text": [
      "              precision    recall  f1-score   support\n",
      "\n",
      "       False       0.47      0.98      0.64     97831\n",
      "        True       0.99      0.68      0.81    333540\n",
      "\n",
      "    accuracy                           0.75    431371\n",
      "   macro avg       0.73      0.83      0.72    431371\n",
      "weighted avg       0.87      0.75      0.77    431371\n",
      "\n"
     ]
    },
    {
     "data": {
      "image/png": "[encoded data removed]",
      "text/plain": [
       "<Figure size 400x300 with 2 Axes>"
      ]
     },
     "metadata": {},
     "output_type": "display_data"
    }
   ],
   "source": [
    "with open('model_1_logreg_gridsearch.pkl', 'rb') as file:\n",
    "    loaded_model_pickle = pickle.load(file)\n",
    "\n",
    "prediction_cic = loaded_model_pickle.best_estimator_.predict(X_cic)\n",
    "print(classification_report(y_cic, prediction_cic))\n",
    "conf_mat = confusion_matrix(y_cic, prediction_cic)\n",
    "plt.figure(figsize=(4,3))\n",
    "sns.heatmap(conf_mat, cmap='Blues', annot=True, fmt='2')\n",
    "plt.title('Confusion Matrix')\n",
    "plt.show()"
   ]
  }
 ],
 "metadata": {
  "kernelspec": {
   "display_name": "Python 3 (ipykernel)",
   "language": "python",
   "name": "python3"
  },
  "language_info": {
   "codemirror_mode": {
    "name": "ipython",
    "version": 3
   },
   "file_extension": ".py",
   "mimetype": "text/x-python",
   "name": "python",
   "nbconvert_exporter": "python",
   "pygments_lexer": "ipython3",
   "version": "3.10.13"
  }
 },
 "nbformat": 4,
 "nbformat_minor": 5
}
